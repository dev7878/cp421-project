{
 "cells": [
  {
   "cell_type": "code",
   "execution_count": 56,
   "metadata": {},
   "outputs": [],
   "source": [
    "import pandas as pd\n",
    "import numpy as np\n",
    "import matplotlib.pyplot as plt\n",
    "import seaborn as sns\n",
    "from sklearn.model_selection import train_test_split\n",
    "from sklearn.preprocessing import LabelEncoder, MinMaxScaler\n",
    "import tensorflow as tf\n",
    "from tensorflow.keras.layers import Input, Embedding, Flatten, Dense, Concatenate, Dropout\n",
    "from tensorflow.keras.models import Model\n",
    "import warnings\n",
    "warnings.filterwarnings('ignore')"
   ]
  },
  {
   "cell_type": "markdown",
   "metadata": {},
   "source": [
    "# 1. Data Loading and Initial Exploration"
   ]
  },
  {
   "cell_type": "code",
   "execution_count": 57,
   "metadata": {},
   "outputs": [],
   "source": [
    "def load_data():\n",
    "    \"\"\"\n",
    "    Load the three dataset files with proper encoding and separator settings, skipping problematic lines.\n",
    "    \"\"\"\n",
    "    # Load datasets with appropriate encoding and skip lines with errors\n",
    "    users_df = pd.read_csv('Users.csv', encoding='latin-1', sep=';', on_bad_lines='skip')\n",
    "    books_df = pd.read_csv('Books.csv', encoding='latin-1', sep=';', on_bad_lines='skip')\n",
    "    ratings_df = pd.read_csv('Ratings.csv', encoding='latin-1', sep=';', on_bad_lines='skip')\n",
    "    \n",
    "    # Check and print column names for troubleshooting\n",
    "    print(\"Users columns:\", users_df.columns)\n",
    "    print(\"Books columns:\", books_df.columns)\n",
    "    print(\"Ratings columns:\", ratings_df.columns)\n",
    "    \n",
    "    print(\"Data Loading Complete!\")\n",
    "    print(f\"Users shape: {users_df.shape}\")\n",
    "    print(f\"Books shape: {books_df.shape}\")\n",
    "    print(f\"Ratings shape: {ratings_df.shape}\")\n",
    "    \n",
    "    return users_df, books_df, ratings_df\n",
    "\n",
    "\n",
    "\n",
    "def explore_data(users_df, books_df, ratings_df):\n",
    "    \"\"\"\n",
    "    Perform initial data exploration and display key statistics\n",
    "    \"\"\"\n",
    "    ratings_df.head()\n",
    "\n",
    "    # Ensure columns have expected names\n",
    "    if 'Book-Rating' not in ratings_df.columns:\n",
    "        print(\"Renaming columns for Ratings dataset.\")\n",
    "        ratings_df.columns = ['User-ID', 'ISBN', 'Book-Rating']\n",
    "    \n",
    "    # Users analysis\n",
    "    print(\"\\nUsers Dataset Info:\")\n",
    "    print(users_df.info())\n",
    "    print(\"\\nMissing values in Users:\")\n",
    "    print(users_df.isnull().sum())\n",
    "    \n",
    "    # Books analysis\n",
    "    print(\"\\nBooks Dataset Info:\")\n",
    "    print(books_df.info())\n",
    "    print(\"\\nMissing values in Books:\")\n",
    "    print(books_df.isnull().sum())\n",
    "    \n",
    "    # Ratings analysis\n",
    "    print(\"\\nRatings Distribution:\")\n",
    "    plt.figure(figsize=(10, 6))\n",
    "    sns.histplot(ratings_df['Book-Rating'])\n",
    "    plt.title('Distribution of Book Ratings')\n",
    "    plt.show()\n",
    "    \n",
    "    return {\n",
    "        'total_users': users_df['User-ID'].nunique(),\n",
    "        'total_books': books_df['ISBN'].nunique(),\n",
    "        'total_ratings': len(ratings_df)\n",
    "    }\n"
   ]
  },
  {
   "cell_type": "markdown",
   "metadata": {},
   "source": [
    "# 2. Data Preprocessing"
   ]
  },
  {
   "cell_type": "code",
   "execution_count": 58,
   "metadata": {},
   "outputs": [],
   "source": [
    "class DataPreprocessor:\n",
    "    def __init__(self):\n",
    "        self.user_encoder = LabelEncoder()\n",
    "        self.book_encoder = LabelEncoder()\n",
    "        self.author_encoder = LabelEncoder()\n",
    "        self.publisher_encoder = LabelEncoder()\n",
    "        self.rating_scaler = MinMaxScaler()\n",
    "    \n",
    "    def preprocess(self, users_df, books_df, ratings_df, min_ratings=10):\n",
    "        \"\"\"\n",
    "        Preprocess the datasets with memory efficiency in mind\n",
    "        \"\"\"\n",
    "        # Filter users and books with minimum ratings to reduce sparsity\n",
    "        user_counts = ratings_df['User-ID'].value_counts()\n",
    "        book_counts = ratings_df['ISBN'].value_counts()\n",
    "        \n",
    "        valid_users = user_counts[user_counts >= min_ratings].index\n",
    "        valid_books = book_counts[book_counts >= min_ratings].index\n",
    "        \n",
    "        # Filter ratings\n",
    "        ratings_filtered = ratings_df[\n",
    "            ratings_df['User-ID'].isin(valid_users) & \n",
    "            ratings_df['ISBN'].isin(valid_books)\n",
    "        ]\n",
    "        \n",
    "        # Update users and books dataframes\n",
    "        users_filtered = users_df[users_df['User-ID'].isin(valid_users)]\n",
    "        books_filtered = books_df[books_df['ISBN'].isin(valid_books)]\n",
    "        \n",
    "        # Encode categorical variables\n",
    "        ratings_filtered['User-ID'] = self.user_encoder.fit_transform(ratings_filtered['User-ID'])\n",
    "        ratings_filtered['ISBN'] = self.book_encoder.fit_transform(ratings_filtered['ISBN'])\n",
    "        \n",
    "        # Scale ratings to [0,1]\n",
    "        ratings_filtered['Book-Rating'] = self.rating_scaler.fit_transform(\n",
    "            ratings_filtered['Book-Rating'].values.reshape(-1, 1)\n",
    "        )\n",
    "        \n",
    "        return ratings_filtered, users_filtered, books_filtered"
   ]
  },
  {
   "cell_type": "markdown",
   "metadata": {},
   "source": [
    "# 3. Baseline Models"
   ]
  },
  {
   "cell_type": "code",
   "execution_count": 59,
   "metadata": {},
   "outputs": [],
   "source": [
    "class BaselineModels:\n",
    "    def __init__(self):\n",
    "        self.global_mean = None\n",
    "        self.user_means = None\n",
    "        self.item_means = None\n",
    "    \n",
    "    def train_baseline_models(self, ratings_df):\n",
    "        \"\"\"\n",
    "        Train simple baseline models\n",
    "        \"\"\"\n",
    "        self.global_mean = ratings_df['Book-Rating'].mean()\n",
    "        self.user_means = ratings_df.groupby('User-ID')['Book-Rating'].mean()\n",
    "        self.item_means = ratings_df.groupby('ISBN')['Book-Rating'].mean()\n",
    "    \n",
    "    def evaluate_baselines(self, test_df):\n",
    "        \"\"\"\n",
    "        Evaluate baseline models using RMSE\n",
    "        \"\"\"\n",
    "        results = {}\n",
    "        \n",
    "        # Global mean RMSE\n",
    "        global_pred = np.full_like(test_df['Book-Rating'], self.global_mean)\n",
    "        results['Global Mean RMSE'] = np.sqrt(np.mean((test_df['Book-Rating'] - global_pred) ** 2))\n",
    "        \n",
    "        # User mean RMSE\n",
    "        user_pred = test_df['User-ID'].map(self.user_means).fillna(self.global_mean)\n",
    "        results['User Mean RMSE'] = np.sqrt(np.mean((test_df['Book-Rating'] - user_pred) ** 2))\n",
    "        \n",
    "        # Item mean RMSE\n",
    "        item_pred = test_df['ISBN'].map(self.item_means).fillna(self.global_mean)\n",
    "        results['Item Mean RMSE'] = np.sqrt(np.mean((test_df['Book-Rating'] - item_pred) ** 2))\n",
    "        \n",
    "        return results"
   ]
  },
  {
   "cell_type": "markdown",
   "metadata": {},
   "source": [
    "# 4. Advanced Model (Neural Collaborative Filtering with Content Features)"
   ]
  },
  {
   "cell_type": "code",
   "execution_count": 60,
   "metadata": {},
   "outputs": [],
   "source": [
    "class NCFModel:\n",
    "    def __init__(self, n_users, n_books, embedding_dim=50):\n",
    "        self.n_users = n_users\n",
    "        self.n_books = n_books\n",
    "        self.embedding_dim = embedding_dim\n",
    "        self.model = self.build_model()\n",
    "    \n",
    "    def build_model(self):\n",
    "        # User input path\n",
    "        user_input = Input(shape=(1,), name='user_input')\n",
    "        user_embedding = Embedding(self.n_users, self.embedding_dim, name='user_embedding')(user_input)\n",
    "        user_vec = Flatten(name='flatten_users')(user_embedding)\n",
    "\n",
    "        # Book input path\n",
    "        book_input = Input(shape=(1,), name='book_input')\n",
    "        book_embedding = Embedding(self.n_books, self.embedding_dim, name='book_embedding')(book_input)\n",
    "        book_vec = Flatten(name='flatten_books')(book_embedding)\n",
    "\n",
    "        # Merge features\n",
    "        concat = Concatenate()([user_vec, book_vec])\n",
    "        \n",
    "        # Dense layers\n",
    "        fc1 = Dense(128, activation='relu')(concat)\n",
    "        dropout1 = Dropout(0.2)(fc1)\n",
    "        fc2 = Dense(64, activation='relu')(dropout1)\n",
    "        dropout2 = Dropout(0.2)(fc2)\n",
    "        output = Dense(1, activation='sigmoid')(dropout2)\n",
    "\n",
    "        model = Model(inputs=[user_input, book_input], outputs=output)\n",
    "        model.compile(optimizer='adam', loss='mean_squared_error', metrics=['mae'])\n",
    "        \n",
    "        return model\n",
    "    \n",
    "    def train(self, train_data, validation_data, epochs=10, batch_size=256):\n",
    "        history = self.model.fit(\n",
    "            x=[train_data['User-ID'], train_data['ISBN']],\n",
    "            y=train_data['Book-Rating'],\n",
    "            validation_data=(\n",
    "                [validation_data['User-ID'], validation_data['ISBN']],\n",
    "                validation_data['Book-Rating']\n",
    "            ),\n",
    "            epochs=epochs,\n",
    "            batch_size=batch_size,\n",
    "            verbose=1\n",
    "        )\n",
    "        return history"
   ]
  },
  {
   "cell_type": "markdown",
   "metadata": {},
   "source": [
    "# 5. Evaluation and Visualization"
   ]
  },
  {
   "cell_type": "code",
   "execution_count": 61,
   "metadata": {},
   "outputs": [],
   "source": [
    "def plot_training_history(history):\n",
    "    \"\"\"\n",
    "    Plot training metrics\n",
    "    \"\"\"\n",
    "    plt.figure(figsize=(12, 4))\n",
    "    \n",
    "    # Loss plot\n",
    "    plt.subplot(1, 2, 1)\n",
    "    plt.plot(history.history['loss'], label='Training Loss')\n",
    "    plt.plot(history.history['val_loss'], label='Validation Loss')\n",
    "    plt.title('Model Loss')\n",
    "    plt.xlabel('Epoch')\n",
    "    plt.ylabel('Loss')\n",
    "    plt.legend()\n",
    "    \n",
    "    # MAE plot\n",
    "    plt.subplot(1, 2, 2)\n",
    "    plt.plot(history.history['mae'], label='Training MAE')\n",
    "    plt.plot(history.history['val_mae'], label='Validation MAE')\n",
    "    plt.title('Model MAE')\n",
    "    plt.xlabel('Epoch')\n",
    "    plt.ylabel('MAE')\n",
    "    plt.legend()\n",
    "    \n",
    "    plt.tight_layout()\n",
    "    plt.show()"
   ]
  },
  {
   "cell_type": "markdown",
   "metadata": {},
   "source": [
    "# Main execution flow"
   ]
  },
  {
   "cell_type": "code",
   "execution_count": null,
   "metadata": {},
   "outputs": [
    {
     "name": "stdout",
     "output_type": "stream",
     "text": [
      "Users columns: Index(['User-ID,Location,Age'], dtype='object')\n",
      "Books columns: Index(['ISBN,Book-Title,Book-Author,Year-Of-Publication,Publisher,Image-URL-S,Image-URL-M,Image-URL-L'], dtype='object')\n",
      "Ratings columns: Index(['User-ID,ISBN,Book-Rating'], dtype='object')\n",
      "Data Loading Complete!\n",
      "Users shape: (278698, 1)\n",
      "Books shape: (249936, 1)\n",
      "Ratings shape: (1149780, 1)\n",
      "Renaming columns for Ratings dataset.\n"
     ]
    },
    {
     "ename": "ValueError",
     "evalue": "Length mismatch: Expected axis has 1 elements, new values have 3 elements",
     "output_type": "error",
     "traceback": [
      "\u001b[1;31m---------------------------------------------------------------------------\u001b[0m",
      "\u001b[1;31mValueError\u001b[0m                                Traceback (most recent call last)",
      "Cell \u001b[1;32mIn[62], line 3\u001b[0m\n\u001b[0;32m      1\u001b[0m users_df, books_df, ratings_df \u001b[38;5;241m=\u001b[39m load_data()\n\u001b[0;32m      2\u001b[0m ratings_df\u001b[38;5;241m.\u001b[39mhead()\n\u001b[1;32m----> 3\u001b[0m \u001b[43mexplore_data\u001b[49m\u001b[43m(\u001b[49m\u001b[43musers_df\u001b[49m\u001b[43m,\u001b[49m\u001b[43m \u001b[49m\u001b[43mbooks_df\u001b[49m\u001b[43m,\u001b[49m\u001b[43m \u001b[49m\u001b[43mratings_df\u001b[49m\u001b[43m)\u001b[49m\n",
      "Cell \u001b[1;32mIn[57], line 33\u001b[0m, in \u001b[0;36mexplore_data\u001b[1;34m(users_df, books_df, ratings_df)\u001b[0m\n\u001b[0;32m     31\u001b[0m \u001b[38;5;28;01mif\u001b[39;00m \u001b[38;5;124m'\u001b[39m\u001b[38;5;124mBook-Rating\u001b[39m\u001b[38;5;124m'\u001b[39m \u001b[38;5;129;01mnot\u001b[39;00m \u001b[38;5;129;01min\u001b[39;00m ratings_df\u001b[38;5;241m.\u001b[39mcolumns:\n\u001b[0;32m     32\u001b[0m     \u001b[38;5;28mprint\u001b[39m(\u001b[38;5;124m\"\u001b[39m\u001b[38;5;124mRenaming columns for Ratings dataset.\u001b[39m\u001b[38;5;124m\"\u001b[39m)\n\u001b[1;32m---> 33\u001b[0m     \u001b[43mratings_df\u001b[49m\u001b[38;5;241;43m.\u001b[39;49m\u001b[43mcolumns\u001b[49m \u001b[38;5;241m=\u001b[39m [\u001b[38;5;124m'\u001b[39m\u001b[38;5;124mUser-ID\u001b[39m\u001b[38;5;124m'\u001b[39m, \u001b[38;5;124m'\u001b[39m\u001b[38;5;124mISBN\u001b[39m\u001b[38;5;124m'\u001b[39m, \u001b[38;5;124m'\u001b[39m\u001b[38;5;124mBook-Rating\u001b[39m\u001b[38;5;124m'\u001b[39m]\n\u001b[0;32m     35\u001b[0m \u001b[38;5;66;03m# Users analysis\u001b[39;00m\n\u001b[0;32m     36\u001b[0m \u001b[38;5;28mprint\u001b[39m(\u001b[38;5;124m\"\u001b[39m\u001b[38;5;130;01m\\n\u001b[39;00m\u001b[38;5;124mUsers Dataset Info:\u001b[39m\u001b[38;5;124m\"\u001b[39m)\n",
      "File \u001b[1;32ms:\\421 project\\myenv\\Lib\\site-packages\\pandas\\core\\generic.py:6313\u001b[0m, in \u001b[0;36mNDFrame.__setattr__\u001b[1;34m(self, name, value)\u001b[0m\n\u001b[0;32m   6311\u001b[0m \u001b[38;5;28;01mtry\u001b[39;00m:\n\u001b[0;32m   6312\u001b[0m     \u001b[38;5;28mobject\u001b[39m\u001b[38;5;241m.\u001b[39m\u001b[38;5;21m__getattribute__\u001b[39m(\u001b[38;5;28mself\u001b[39m, name)\n\u001b[1;32m-> 6313\u001b[0m     \u001b[38;5;28;01mreturn\u001b[39;00m \u001b[38;5;28;43mobject\u001b[39;49m\u001b[38;5;241;43m.\u001b[39;49m\u001b[38;5;21;43m__setattr__\u001b[39;49m\u001b[43m(\u001b[49m\u001b[38;5;28;43mself\u001b[39;49m\u001b[43m,\u001b[49m\u001b[43m \u001b[49m\u001b[43mname\u001b[49m\u001b[43m,\u001b[49m\u001b[43m \u001b[49m\u001b[43mvalue\u001b[49m\u001b[43m)\u001b[49m\n\u001b[0;32m   6314\u001b[0m \u001b[38;5;28;01mexcept\u001b[39;00m \u001b[38;5;167;01mAttributeError\u001b[39;00m:\n\u001b[0;32m   6315\u001b[0m     \u001b[38;5;28;01mpass\u001b[39;00m\n",
      "File \u001b[1;32mproperties.pyx:69\u001b[0m, in \u001b[0;36mpandas._libs.properties.AxisProperty.__set__\u001b[1;34m()\u001b[0m\n",
      "File \u001b[1;32ms:\\421 project\\myenv\\Lib\\site-packages\\pandas\\core\\generic.py:814\u001b[0m, in \u001b[0;36mNDFrame._set_axis\u001b[1;34m(self, axis, labels)\u001b[0m\n\u001b[0;32m    809\u001b[0m \u001b[38;5;250m\u001b[39m\u001b[38;5;124;03m\"\"\"\u001b[39;00m\n\u001b[0;32m    810\u001b[0m \u001b[38;5;124;03mThis is called from the cython code when we set the `index` attribute\u001b[39;00m\n\u001b[0;32m    811\u001b[0m \u001b[38;5;124;03mdirectly, e.g. `series.index = [1, 2, 3]`.\u001b[39;00m\n\u001b[0;32m    812\u001b[0m \u001b[38;5;124;03m\"\"\"\u001b[39;00m\n\u001b[0;32m    813\u001b[0m labels \u001b[38;5;241m=\u001b[39m ensure_index(labels)\n\u001b[1;32m--> 814\u001b[0m \u001b[38;5;28;43mself\u001b[39;49m\u001b[38;5;241;43m.\u001b[39;49m\u001b[43m_mgr\u001b[49m\u001b[38;5;241;43m.\u001b[39;49m\u001b[43mset_axis\u001b[49m\u001b[43m(\u001b[49m\u001b[43maxis\u001b[49m\u001b[43m,\u001b[49m\u001b[43m \u001b[49m\u001b[43mlabels\u001b[49m\u001b[43m)\u001b[49m\n\u001b[0;32m    815\u001b[0m \u001b[38;5;28mself\u001b[39m\u001b[38;5;241m.\u001b[39m_clear_item_cache()\n",
      "File \u001b[1;32ms:\\421 project\\myenv\\Lib\\site-packages\\pandas\\core\\internals\\managers.py:238\u001b[0m, in \u001b[0;36mBaseBlockManager.set_axis\u001b[1;34m(self, axis, new_labels)\u001b[0m\n\u001b[0;32m    236\u001b[0m \u001b[38;5;28;01mdef\u001b[39;00m \u001b[38;5;21mset_axis\u001b[39m(\u001b[38;5;28mself\u001b[39m, axis: AxisInt, new_labels: Index) \u001b[38;5;241m-\u001b[39m\u001b[38;5;241m>\u001b[39m \u001b[38;5;28;01mNone\u001b[39;00m:\n\u001b[0;32m    237\u001b[0m     \u001b[38;5;66;03m# Caller is responsible for ensuring we have an Index object.\u001b[39;00m\n\u001b[1;32m--> 238\u001b[0m     \u001b[38;5;28;43mself\u001b[39;49m\u001b[38;5;241;43m.\u001b[39;49m\u001b[43m_validate_set_axis\u001b[49m\u001b[43m(\u001b[49m\u001b[43maxis\u001b[49m\u001b[43m,\u001b[49m\u001b[43m \u001b[49m\u001b[43mnew_labels\u001b[49m\u001b[43m)\u001b[49m\n\u001b[0;32m    239\u001b[0m     \u001b[38;5;28mself\u001b[39m\u001b[38;5;241m.\u001b[39maxes[axis] \u001b[38;5;241m=\u001b[39m new_labels\n",
      "File \u001b[1;32ms:\\421 project\\myenv\\Lib\\site-packages\\pandas\\core\\internals\\base.py:98\u001b[0m, in \u001b[0;36mDataManager._validate_set_axis\u001b[1;34m(self, axis, new_labels)\u001b[0m\n\u001b[0;32m     95\u001b[0m     \u001b[38;5;28;01mpass\u001b[39;00m\n\u001b[0;32m     97\u001b[0m \u001b[38;5;28;01melif\u001b[39;00m new_len \u001b[38;5;241m!=\u001b[39m old_len:\n\u001b[1;32m---> 98\u001b[0m     \u001b[38;5;28;01mraise\u001b[39;00m \u001b[38;5;167;01mValueError\u001b[39;00m(\n\u001b[0;32m     99\u001b[0m         \u001b[38;5;124mf\u001b[39m\u001b[38;5;124m\"\u001b[39m\u001b[38;5;124mLength mismatch: Expected axis has \u001b[39m\u001b[38;5;132;01m{\u001b[39;00mold_len\u001b[38;5;132;01m}\u001b[39;00m\u001b[38;5;124m elements, new \u001b[39m\u001b[38;5;124m\"\u001b[39m\n\u001b[0;32m    100\u001b[0m         \u001b[38;5;124mf\u001b[39m\u001b[38;5;124m\"\u001b[39m\u001b[38;5;124mvalues have \u001b[39m\u001b[38;5;132;01m{\u001b[39;00mnew_len\u001b[38;5;132;01m}\u001b[39;00m\u001b[38;5;124m elements\u001b[39m\u001b[38;5;124m\"\u001b[39m\n\u001b[0;32m    101\u001b[0m     )\n",
      "\u001b[1;31mValueError\u001b[0m: Length mismatch: Expected axis has 1 elements, new values have 3 elements"
     ]
    }
   ],
   "source": [
    "users_df, books_df, ratings_df = load_data()\n",
    "ratings_df.head()\n",
    "explore_data(users_df, books_df, ratings_df)"
   ]
  },
  {
   "cell_type": "markdown",
   "metadata": {},
   "source": [
    "# Initialize the preprocessor and preprocess data"
   ]
  },
  {
   "cell_type": "code",
   "execution_count": null,
   "metadata": {},
   "outputs": [],
   "source": [
    "preprocessor = DataPreprocessor()\n",
    "train_df, users_df, books_df = preprocessor.preprocess(users_df, books_df, ratings_df)"
   ]
  },
  {
   "cell_type": "markdown",
   "metadata": {},
   "source": [
    "# Split into train and test datasets"
   ]
  },
  {
   "cell_type": "code",
   "execution_count": null,
   "metadata": {},
   "outputs": [],
   "source": [
    "train_df, test_df = train_test_split(train_df, test_size=0.2, random_state=42)"
   ]
  },
  {
   "cell_type": "markdown",
   "metadata": {},
   "source": [
    "# Initialize and train baseline models"
   ]
  },
  {
   "cell_type": "code",
   "execution_count": null,
   "metadata": {},
   "outputs": [],
   "source": [
    "\n",
    "baseline_models = BaselineModels()\n",
    "baseline_models.train_baseline_models(train_df)\n",
    "baseline_results = baseline_models.evaluate_baselines(test_df)\n",
    "print(\"Baseline Model Results:\", baseline_results)"
   ]
  },
  {
   "cell_type": "markdown",
   "metadata": {},
   "source": [
    "# Define NCF model parameters"
   ]
  },
  {
   "cell_type": "code",
   "execution_count": null,
   "metadata": {},
   "outputs": [],
   "source": [
    "n_users = train_df['User-ID'].nunique()\n",
    "n_books = train_df['ISBN'].nunique()"
   ]
  },
  {
   "cell_type": "markdown",
   "metadata": {},
   "source": [
    "# Train and evaluate the NCF model"
   ]
  },
  {
   "cell_type": "code",
   "execution_count": null,
   "metadata": {},
   "outputs": [],
   "source": [
    "ncf_model = NCFModel(n_users, n_books)\n",
    "history = ncf_model.train(train_data=train_df, validation_data=test_df)"
   ]
  },
  {
   "cell_type": "markdown",
   "metadata": {},
   "source": [
    "# Plot the training history"
   ]
  },
  {
   "cell_type": "code",
   "execution_count": null,
   "metadata": {},
   "outputs": [],
   "source": [
    "plot_training_history(history)"
   ]
  },
  {
   "cell_type": "markdown",
   "metadata": {},
   "source": [
    "# Evaluate NCF model performance"
   ]
  },
  {
   "cell_type": "code",
   "execution_count": null,
   "metadata": {},
   "outputs": [],
   "source": [
    "test_predictions = ncf_model.model.predict([test_df['User-ID'], test_df['ISBN']])\n",
    "test_predictions = preprocessor.rating_scaler.inverse_transform(test_predictions)\n",
    "actual_ratings = preprocessor.rating_scaler.inverse_transform(test_df['Book-Rating'].values.reshape(-1, 1))\n",
    "rmse = np.sqrt(np.mean((test_predictions - actual_ratings) ** 2))\n",
    "print(\"NCF Model RMSE on Test Set:\", rmse)"
   ]
  }
 ],
 "metadata": {
  "kernelspec": {
   "display_name": "myenv",
   "language": "python",
   "name": "python3"
  },
  "language_info": {
   "codemirror_mode": {
    "name": "ipython",
    "version": 3
   },
   "file_extension": ".py",
   "mimetype": "text/x-python",
   "name": "python",
   "nbconvert_exporter": "python",
   "pygments_lexer": "ipython3",
   "version": "3.12.1"
  }
 },
 "nbformat": 4,
 "nbformat_minor": 2
}
